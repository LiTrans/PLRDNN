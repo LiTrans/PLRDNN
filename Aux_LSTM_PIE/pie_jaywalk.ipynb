{
 "cells": [
  {
   "cell_type": "code",
   "execution_count": 1,
   "metadata": {},
   "outputs": [],
   "source": [
    "from pie_data import PIE\n",
    "import numpy as np\n",
    "import os"
   ]
  },
  {
   "cell_type": "code",
   "execution_count": 2,
   "metadata": {},
   "outputs": [
    {
     "name": "stdout",
     "output_type": "stream",
     "text": [
      "---------------------------------------------------------\n",
      "Generating database for pie\n",
      "pie annotations loaded from /home/arash/PedVid/PIE/data_cache/pie_database.pkl\n"
     ]
    }
   ],
   "source": [
    "path = os.getcwd()\n",
    "pie = PIE(data_path=path)\n",
    "# 1 second = 30 frames\n",
    "db = pie.generate_database()"
   ]
  },
  {
   "cell_type": "code",
   "execution_count": 3,
   "metadata": {},
   "outputs": [],
   "source": [
    "data_opts = {'fstride': 3 ,   #0.1 sec\n",
    "             'sample_type': 'all',\n",
    "             'height_rng': [0, float('inf')],\n",
    "             'squarify_ratio': 0,\n",
    "             'data_split_type': 'default',  # kfold, random, default\n",
    "             'seq_type': 'crossing',\n",
    "             'min_track_size': 21,\n",
    "             'random_params': {'ratios': None,\n",
    "                             'val_data': True,\n",
    "                             'regen_data': True}}#,\n",
    "             #'kfold_params': {'num_folds': 4, 'fold': 2}}"
   ]
  },
  {
   "cell_type": "code",
   "execution_count": 19,
   "metadata": {},
   "outputs": [
    {
     "name": "stdout",
     "output_type": "stream",
     "text": [
      "---------------------------------------------------------\n",
      "Generating trajectory sequence data\n",
      "fstride: 3\n",
      "sample_type: all\n",
      "height_rng: [0, inf]\n",
      "squarify_ratio: 0\n",
      "data_split_type: default\n",
      "seq_type: crossing\n",
      "min_track_size: 21\n",
      "random_params: {'ratios': None, 'val_data': True, 'regen_data': True}\n",
      "kfold_params: {'num_folds': 5, 'fold': 1}\n",
      "---------------------------------------------------------\n",
      "Generating database for pie\n",
      "pie annotations loaded from /home/arash/PedVid/PIE/data_cache/pie_database.pkl\n",
      "---------------------------------------------------------\n",
      "Generating crossing data\n",
      "Subset: all\n",
      "Number of pedestrians: 1842 \n",
      "Total number of samples: 517 \n"
     ]
    }
   ],
   "source": [
    "beh_seq = pie.generate_data_trajectory_sequence('all', **data_opts)\n",
    "#beh_seq_2 = pie.generate_data_trajectory_sequence('test', **data_opts)"
   ]
  },
  {
   "cell_type": "code",
   "execution_count": 56,
   "metadata": {},
   "outputs": [
    {
     "data": {
      "text/plain": [
       "['image',\n",
       " 'pid',\n",
       " 'bbox',\n",
       " 'center',\n",
       " 'age',\n",
       " 'gender',\n",
       " 'intersection',\n",
       " 'num_lanes',\n",
       " 'signalized',\n",
       " 'direction',\n",
       " 'obd_speed',\n",
       " 'gps_coord',\n",
       " 'intention_prob',\n",
       " 'activities',\n",
       " 'image_dimension']"
      ]
     },
     "execution_count": 56,
     "metadata": {},
     "output_type": "execute_result"
    }
   ],
   "source": [
    "ky = list((beh_seq).keys())\n",
    "ky"
   ]
  },
  {
   "cell_type": "code",
   "execution_count": 199,
   "metadata": {},
   "outputs": [],
   "source": [
    "# change format for aux-LSTM\n",
    "userXtraj, userYtraj = [],[]\n",
    "veh_speed,useraux = [],[]\n",
    "time_traj = []\n",
    "for i in range(len(beh_seq['pid'])):\n",
    "    \n",
    "    if (beh_seq['intersection'][i][0][0] > 0) or \\\n",
    "    (beh_seq['signalized'][i][0][0] > 1):    #limit to midblock unsignalized\n",
    "            continue\n",
    "    stop = len(beh_seq['pid'][i])\n",
    "    times = np.linspace(0,stop,stop)/10\n",
    "    time_traj.append(times)\n",
    "    xy = np.array(beh_seq['center'][i])\n",
    "    sp = np.array(beh_seq['obd_speed'][i])\n",
    "    userXtraj.append(xy[:,0])\n",
    "    userYtraj.append(xy[:,1])\n",
    "    veh_speed.append(sp[:,0])\n",
    "    int_speed = sp[:,0][0] * 3.6 #km/h initial speed of vehicle\n",
    "    oneway, twoway = 0, 0\n",
    "    if beh_seq['direction'][i][0][0] == 0:\n",
    "        oneway = 1\n",
    "    else:\n",
    "        twoway = 1\n",
    "    \n",
    "    num_lanes = beh_seq['num_lanes'][i][0][0]\n",
    "    \n",
    "    aux = np.array([oneway, twoway, int_speed, num_lanes])\n",
    "    useraux.append(aux)\n",
    "  \n",
    "\n",
    "    "
   ]
  },
  {
   "cell_type": "code",
   "execution_count": null,
   "metadata": {},
   "outputs": [],
   "source": []
  },
  {
   "cell_type": "code",
   "execution_count": 200,
   "metadata": {},
   "outputs": [
    {
     "data": {
      "text/html": [
       "<div>\n",
       "<style scoped>\n",
       "    .dataframe tbody tr th:only-of-type {\n",
       "        vertical-align: middle;\n",
       "    }\n",
       "\n",
       "    .dataframe tbody tr th {\n",
       "        vertical-align: top;\n",
       "    }\n",
       "\n",
       "    .dataframe thead th {\n",
       "        text-align: right;\n",
       "    }\n",
       "</style>\n",
       "<table border=\"1\" class=\"dataframe\">\n",
       "  <thead>\n",
       "    <tr style=\"text-align: right;\">\n",
       "      <th></th>\n",
       "      <th>duration</th>\n",
       "    </tr>\n",
       "  </thead>\n",
       "  <tbody>\n",
       "    <tr>\n",
       "      <th>count</th>\n",
       "      <td>49.000000</td>\n",
       "    </tr>\n",
       "    <tr>\n",
       "      <th>mean</th>\n",
       "      <td>10.779592</td>\n",
       "    </tr>\n",
       "    <tr>\n",
       "      <th>std</th>\n",
       "      <td>30.406797</td>\n",
       "    </tr>\n",
       "    <tr>\n",
       "      <th>min</th>\n",
       "      <td>3.200000</td>\n",
       "    </tr>\n",
       "    <tr>\n",
       "      <th>25%</th>\n",
       "      <td>4.400000</td>\n",
       "    </tr>\n",
       "    <tr>\n",
       "      <th>50%</th>\n",
       "      <td>5.500000</td>\n",
       "    </tr>\n",
       "    <tr>\n",
       "      <th>75%</th>\n",
       "      <td>7.500000</td>\n",
       "    </tr>\n",
       "    <tr>\n",
       "      <th>max</th>\n",
       "      <td>218.300000</td>\n",
       "    </tr>\n",
       "  </tbody>\n",
       "</table>\n",
       "</div>"
      ],
      "text/plain": [
       "         duration\n",
       "count   49.000000\n",
       "mean    10.779592\n",
       "std     30.406797\n",
       "min      3.200000\n",
       "25%      4.400000\n",
       "50%      5.500000\n",
       "75%      7.500000\n",
       "max    218.300000"
      ]
     },
     "execution_count": 200,
     "metadata": {},
     "output_type": "execute_result"
    }
   ],
   "source": [
    "import pandas as pd\n",
    "#check for ouliers\n",
    "dur=[]\n",
    "for i in range(len(time_traj)):\n",
    "    t = time_traj[i][-1]\n",
    "    dur.append(t)\n",
    "\n",
    "dur=pd.DataFrame(dur,columns=['duration'])\n",
    "\n",
    "dur.describe()"
   ]
  },
  {
   "cell_type": "code",
   "execution_count": 201,
   "metadata": {},
   "outputs": [
    {
     "data": {
      "text/plain": [
       "(array([40.,  6.,  2.,  0.,  0.,  0.,  0.,  0.,  0.,  0.,  0.,  0.,  0.,\n",
       "         0.,  0.,  0.,  0.,  0.,  0.,  0.,  0.,  0.,  0.,  0.,  0.,  0.,\n",
       "         0.,  0.,  0.,  0.,  0.,  0.,  0.,  0.,  0.,  0.,  0.,  0.,  0.,\n",
       "         1.]),\n",
       " array([  3.2   ,   8.5775,  13.955 ,  19.3325,  24.71  ,  30.0875,\n",
       "         35.465 ,  40.8425,  46.22  ,  51.5975,  56.975 ,  62.3525,\n",
       "         67.73  ,  73.1075,  78.485 ,  83.8625,  89.24  ,  94.6175,\n",
       "         99.995 , 105.3725, 110.75  , 116.1275, 121.505 , 126.8825,\n",
       "        132.26  , 137.6375, 143.015 , 148.3925, 153.77  , 159.1475,\n",
       "        164.525 , 169.9025, 175.28  , 180.6575, 186.035 , 191.4125,\n",
       "        196.79  , 202.1675, 207.545 , 212.9225, 218.3   ]),\n",
       " <a list of 40 Patch objects>)"
      ]
     },
     "execution_count": 201,
     "metadata": {},
     "output_type": "execute_result"
    },
    {
     "data": {
      "image/png": "[encoded data removed]",
      "text/plain": [
       "<Figure size 432x288 with 1 Axes>"
      ]
     },
     "metadata": {
      "needs_background": "light"
     },
     "output_type": "display_data"
    }
   ],
   "source": [
    "import matplotlib.pyplot as plt\n",
    "plt.hist(dur.iloc[:,0],bins=40)"
   ]
  },
  {
   "cell_type": "code",
   "execution_count": 202,
   "metadata": {},
   "outputs": [],
   "source": [
    "#indices of experiments when it takes more than ~15 seconds  to cross.\n",
    "# 2 rows out of total 49 removed\n",
    "out=dur[dur['duration']>15].index\n",
    "\n",
    "for i in sorted(out,reverse=True): #reverse is true to make sure indices does not change after removing\n",
    "    del userXtraj[i]\n",
    "    del userYtraj[i]\n",
    "    del useraux[i]\n",
    "    del time_traj[i]\n",
    "    del veh_speed[i]\n",
    "    \n",
    "out = dur[dur['duration']>15].index\n",
    "\n"
   ]
  },
  {
   "cell_type": "code",
   "execution_count": 221,
   "metadata": {},
   "outputs": [
    {
     "name": "stderr",
     "output_type": "stream",
     "text": [
      "/home/arash/.local/lib/python3.6/site-packages/ipykernel_launcher.py:26: VisibleDeprecationWarning: Creating an ndarray from ragged nested sequences (which is a list-or-tuple of lists-or-tuples-or ndarrays with different lengths or shapes) is deprecated. If you meant to do this, you must specify 'dtype=object' when creating the ndarray\n",
      "/home/arash/.local/lib/python3.6/site-packages/ipykernel_launcher.py:27: VisibleDeprecationWarning: Creating an ndarray from ragged nested sequences (which is a list-or-tuple of lists-or-tuples-or ndarrays with different lengths or shapes) is deprecated. If you meant to do this, you must specify 'dtype=object' when creating the ndarray\n",
      "/home/arash/.local/lib/python3.6/site-packages/ipykernel_launcher.py:28: VisibleDeprecationWarning: Creating an ndarray from ragged nested sequences (which is a list-or-tuple of lists-or-tuples-or ndarrays with different lengths or shapes) is deprecated. If you meant to do this, you must specify 'dtype=object' when creating the ndarray\n"
     ]
    }
   ],
   "source": [
    "# Data Normalization\n",
    "# normalization using min max method\n",
    "    \n",
    "maxX = max(map(max, userXtraj))\n",
    "minX = min(map(min, userXtraj))\n",
    "\n",
    "maxY = max(map(max, userYtraj))\n",
    "minY = min(map(min, userYtraj))\n",
    "\n",
    "maxS = max(map(max, veh_speed))\n",
    "minS = min(map(min, veh_speed))\n",
    "\n",
    "Xscaled=[]\n",
    "Yscaled=[]\n",
    "Sscaled=[]\n",
    "for i in range(len(userXtraj)):\n",
    "    if userXtraj[i][0]>userXtraj[i][-1]:  #make 0 of X axis = ped starting side\n",
    "        Xscaled.append(1 -(userXtraj[i]-minX)/(maxX-minX))\n",
    "    else:\n",
    "        Xscaled.append((userXtraj[i]-minX)/(maxX-minX))\n",
    "        \n",
    "    Yscaled.append((userYtraj[i]-minY)/(maxY-minY))\n",
    "    Sscaled.append((veh_speed[i]-minS)/(maxS-minS))\n",
    "    \n",
    "\n",
    "Xscaled=np.array(Xscaled)\n",
    "Yscaled=np.array(Yscaled)\n",
    "Sscaled=np.array(Sscaled)\n",
    "useraux=np.array(useraux)"
   ]
  },
  {
   "cell_type": "code",
   "execution_count": 222,
   "metadata": {},
   "outputs": [],
   "source": [
    "### Seperating test set before any modeling\n",
    "import random\n",
    "import pickle\n",
    "\n",
    "tst=0.2                 #% test data\n",
    "\n",
    "tstsize = int(np.floor(len(Xscaled) * tst))\n",
    "\n",
    "#valsize = int(np.floor(len(X) * val))\n",
    "\n",
    "tstlabel = random.sample(range(0, (len(Xscaled)-1)), len(range(tstsize)))\n",
    "\n",
    "XscaledTest = Xscaled[tstlabel]\n",
    "YscaledTest = Yscaled[tstlabel]\n",
    "SscaledTest = Sscaled[tstlabel]\n",
    "userauxTest = useraux[tstlabel]\n",
    "\n",
    "trnlabel=[i for i in range(len(Xscaled)) if i not in tstlabel]\n",
    "\n",
    "XscaledTrain = Xscaled[trnlabel]\n",
    "YscaledTrain = Yscaled[trnlabel]\n",
    "SscaledTrain = Sscaled[trnlabel]\n",
    "userauxTrain = useraux[trnlabel]\n",
    "\n",
    "\n",
    "# Saving files to drive\n",
    "folder = '/home/arash/PedVid/PIE/seqdata/'\n",
    "\n",
    "with open(f'{folder}XscaledTrain', 'wb') as f:\n",
    "     pickle.dump(XscaledTrain, f)\n",
    "\n",
    "with open(f'{folder}YscaledTrain', 'wb') as f:\n",
    "     pickle.dump(YscaledTrain, f)\n",
    "\n",
    "with open(f'{folder}SscaledTrain', 'wb') as f:\n",
    "    pickle.dump(SscaledTrain, f)\n",
    "        \n",
    "with open(f'{folder}userauxTrain', 'wb') as f:\n",
    "     pickle.dump(userauxTrain, f)\n",
    "        \n",
    "with open(f'{folder}XscaledTest', 'wb') as f:\n",
    "     pickle.dump(XscaledTest, f)\n",
    "\n",
    "with open(f'{folder}YscaledTest', 'wb') as f:\n",
    "     pickle.dump(YscaledTest, f)\n",
    "\n",
    "with open(f'{folder}SscaledTest', 'wb') as f:\n",
    "    pickle.dump(SscaledTest, f)\n",
    "        \n",
    "with open(f'{folder}userauxTest', 'wb') as f:\n",
    "     pickle.dump(userauxTest, f)"
   ]
  },
  {
   "cell_type": "code",
   "execution_count": 233,
   "metadata": {},
   "outputs": [],
   "source": [
    "tt = 1 -(userXtraj[0]-minX)/(maxX-minX)"
   ]
  },
  {
   "cell_type": "code",
   "execution_count": null,
   "metadata": {},
   "outputs": [],
   "source": []
  },
  {
   "cell_type": "code",
   "execution_count": null,
   "metadata": {},
   "outputs": [],
   "source": []
  },
  {
   "cell_type": "code",
   "execution_count": null,
   "metadata": {},
   "outputs": [],
   "source": []
  },
  {
   "cell_type": "code",
   "execution_count": null,
   "metadata": {},
   "outputs": [],
   "source": []
  }
 ],
 "metadata": {
  "kernelspec": {
   "display_name": "Python 3",
   "language": "python",
   "name": "python3"
  },
  "language_info": {
   "codemirror_mode": {
    "name": "ipython",
    "version": 3
   },
   "file_extension": ".py",
   "mimetype": "text/x-python",
   "name": "python",
   "nbconvert_exporter": "python",
   "pygments_lexer": "ipython3",
   "version": "3.6.10"
  }
 },
 "nbformat": 4,
 "nbformat_minor": 4
}
